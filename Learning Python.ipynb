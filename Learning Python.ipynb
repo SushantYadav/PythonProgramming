{
 "cells": [
  {
   "cell_type": "code",
   "execution_count": 2,
   "id": "0fc12789",
   "metadata": {
    "scrolled": true
   },
   "outputs": [
    {
     "name": "stdout",
     "output_type": "stream",
     "text": [
      "Hello World\n"
     ]
    }
   ],
   "source": [
    "print(\"Hello World\")\n"
   ]
  },
  {
   "cell_type": "code",
   "execution_count": 6,
   "id": "04cc64ac",
   "metadata": {},
   "outputs": [
    {
     "name": "stdout",
     "output_type": "stream",
     "text": [
      "Sushant\n"
     ]
    }
   ],
   "source": [
    "name = \"Sushant\"\n",
    "print(name)\n"
   ]
  },
  {
   "cell_type": "markdown",
   "id": "ef1700fb",
   "metadata": {},
   "source": []
  },
  {
   "cell_type": "code",
   "execution_count": 7,
   "id": "633b6758",
   "metadata": {},
   "outputs": [
    {
     "name": "stdout",
     "output_type": "stream",
     "text": [
      "Enter your name :: Sushant\n",
      "You are the best Sushant\n"
     ]
    }
   ],
   "source": [
    "name = input(\"Enter your name :: \")\n",
    "print(\"You are the best\", name)\n"
   ]
  },
  {
   "cell_type": "code",
   "execution_count": 8,
   "id": "31e2e458",
   "metadata": {},
   "outputs": [
    {
     "name": "stdout",
     "output_type": "stream",
     "text": [
      "type of a  <class 'int'>\n",
      "type of b  <class 'float'>\n",
      "type of c  <class 'complex'>\n"
     ]
    }
   ],
   "source": [
    "# Checking type of variable\n",
    "a = 10\n",
    "b = 11.5\n",
    "c = 2.05j\n",
    "print(\"type of a \", type(a))\n",
    "print(\"type of b \", type(b))\n",
    "print(\"type of c \", type(c))\n"
   ]
  },
  {
   "cell_type": "code",
   "execution_count": 15,
   "id": "082d44b6",
   "metadata": {},
   "outputs": [
    {
     "name": "stdout",
     "output_type": "stream",
     "text": [
      "Enter first value2\n",
      "Enter second value3\n",
      "Addition of two inputs 5\n",
      "minus of two inputs:: -1\n",
      "multiple of two inputs:: 6\n",
      "division of two inputs:: 0.67\n",
      "division of two inputs:: 0.67\n",
      "modulus of two inputs:: 2\n",
      "Exponents of two inputs:: 8\n",
      "floar division of two inputs:: 0\n"
     ]
    }
   ],
   "source": [
    "# performing artithmetic opertions\n",
    "a = int(input(\"Enter first value\"))\n",
    "b = int(input(\"Enter second value\"))\n",
    "print(\"Addition of two inputs\", a+b)\n",
    "print(\"minus of two inputs::\", a-b)\n",
    "print(\"multiple of two inputs::\", a*b)\n",
    "print(\"division of two inputs::\", format(a/b, \".2f\"))\n",
    "print(\"division of two inputs::\", round(a/b, 2))\n",
    "print(\"modulus of two inputs::\", a % b)\n",
    "print(\"Exponents of two inputs::\", a**b)\n",
    "print(\"floar division of two inputs::\", a//b)\n"
   ]
  },
  {
   "cell_type": "code",
   "execution_count": 16,
   "id": "3fe79299",
   "metadata": {
    "scrolled": true
   },
   "outputs": [
    {
     "name": "stdout",
     "output_type": "stream",
     "text": [
      "Enter String One: Hello\n",
      "Enter String Two: World\n",
      "String One :  Hello\n",
      "String Two :  World\n",
      "Concatenated String:  HelloWorld\n",
      "Substring of String One:  ell\n",
      "Substring of String Two:  orl\n"
     ]
    }
   ],
   "source": [
    "# aim to create concatenate and find substring and print string from given string.\n",
    "\n",
    "s1 = input(\"Enter String One: \")\n",
    "s2 = input(\"Enter String Two: \")\n",
    "print(\"String One : \", s1)\n",
    "print(\"String Two : \", s2)\n",
    "print(\"Concatenated String: \", s1+s2)\n",
    "print(\"Substring of String One: \", s1[1:4])\n",
    "print(\"Substring of String Two: \", s2[1:4])\n"
   ]
  },
  {
   "cell_type": "code",
   "execution_count": 2,
   "id": "8ef46703",
   "metadata": {},
   "outputs": [
    {
     "name": "stdout",
     "output_type": "stream",
     "text": [
      "Fri Dec 24 16:23:03 India Standard Time 2021\n"
     ]
    }
   ],
   "source": [
    "# print date format\n",
    "import time\n",
    "ltime = time.localtime()\n",
    "print(time.strftime(\"%a %b %d %H:%M:%S %Z %Y\", ltime))\n"
   ]
  },
  {
   "cell_type": "code",
   "execution_count": 3,
   "id": "5f691823",
   "metadata": {},
   "outputs": [],
   "source": [
    "# Creating list\n",
    "my_list = []\n",
    "\n",
    "# list of integers\n",
    "my_list = [1, 2, 3]\n",
    "\n",
    "# list with mixed data types\n",
    "my_list = [1, \"Hello\", 3.4]\n"
   ]
  },
  {
   "cell_type": "code",
   "execution_count": 4,
   "id": "1fd38130",
   "metadata": {},
   "outputs": [],
   "source": [
    "# creating nested list\n",
    "my_list = [\"mouse\", [8, 4, 6], ['a']]\n"
   ]
  },
  {
   "cell_type": "code",
   "execution_count": 7,
   "id": "ca035c3b",
   "metadata": {},
   "outputs": [
    {
     "name": "stdout",
     "output_type": "stream",
     "text": [
      "[1, 3, 5, 7]\n",
      "[1, 3, 5, 7, 9, 11, 13]\n"
     ]
    }
   ],
   "source": [
    "# Appending and extending list in python\n",
    "odd = [1, 3, 5]\n",
    "odd.append(7)\n",
    "print(odd)\n",
    "odd.extend([9, 11, 13])\n",
    "print(odd)\n",
    "# To concatenate two list we can use + operator\n"
   ]
  },
  {
   "cell_type": "code",
   "execution_count": 10,
   "id": "a9be759a",
   "metadata": {},
   "outputs": [
    {
     "name": "stdout",
     "output_type": "stream",
     "text": [
      "['p', 'r', 'b', 'l', 'e', 'm']\n",
      "['p', 'm']\n"
     ]
    },
    {
     "ename": "NameError",
     "evalue": "name 'my_list' is not defined",
     "output_type": "error",
     "traceback": [
      "\u001b[1;31m---------------------------------------------------------------------------\u001b[0m",
      "\u001b[1;31mNameError\u001b[0m                                 Traceback (most recent call last)",
      "\u001b[1;32m<ipython-input-10-8aa9374349db>\u001b[0m in \u001b[0;36m<module>\u001b[1;34m\u001b[0m\n\u001b[0;32m     14\u001b[0m \u001b[1;33m\u001b[0m\u001b[0m\n\u001b[0;32m     15\u001b[0m \u001b[1;31m#Error: List not defined\u001b[0m\u001b[1;33m\u001b[0m\u001b[1;33m\u001b[0m\u001b[1;33m\u001b[0m\u001b[0m\n\u001b[1;32m---> 16\u001b[1;33m \u001b[0mprint\u001b[0m\u001b[1;33m(\u001b[0m\u001b[0mmy_list\u001b[0m\u001b[1;33m)\u001b[0m\u001b[1;33m\u001b[0m\u001b[1;33m\u001b[0m\u001b[0m\n\u001b[0m",
      "\u001b[1;31mNameError\u001b[0m: name 'my_list' is not defined"
     ]
    }
   ],
   "source": [
    "# Deleting list items\n",
    "my_list = ['p', 'r', 'o', 'b', 'l', 'e', 'm']\n",
    "\n",
    "# delete one item\n",
    "del my_list[2]\n",
    "print(my_list)\n",
    "\n",
    "# delete multiple item\n",
    "del my_list[1:5]\n",
    "print(my_list)\n",
    "\n",
    "# delete entire list\n",
    "del my_list\n",
    "\n",
    "# Error: List not defined\n",
    "print(my_list)\n"
   ]
  },
  {
   "cell_type": "code",
   "execution_count": 12,
   "id": "47d50a51",
   "metadata": {},
   "outputs": [
    {
     "name": "stdout",
     "output_type": "stream",
     "text": [
      "['p', 'r', 'o', 'b', 'l', 'e', 'm']\n",
      "['p', 'o', 'b', 'l', 'e', 'm']\n"
     ]
    }
   ],
   "source": [
    "my_list = ['p', 'r', 'o', 'b', 'l', 'e', 'm']\n",
    "print(my_list)\n",
    "\n",
    "# pop opertion to remove item at given index\n",
    "my_list.pop(1)\n",
    "print(my_list)\n"
   ]
  },
  {
   "cell_type": "code",
   "execution_count": 16,
   "id": "bfe0de44",
   "metadata": {},
   "outputs": [
    {
     "name": "stdout",
     "output_type": "stream",
     "text": [
      "['p', 'o', 'b', 'l', 'e', 'm']\n"
     ]
    }
   ],
   "source": [
    "# using remove to remove item\n",
    "my_list.remove\n",
    "print(my_list)\n"
   ]
  },
  {
   "cell_type": "code",
   "execution_count": 17,
   "id": "03d7cf8b",
   "metadata": {},
   "outputs": [
    {
     "name": "stdout",
     "output_type": "stream",
     "text": [
      "()\n",
      "(1, 2, 3)\n",
      "(1, 'Hello', 3.4)\n",
      "('mouse', [8, 4, 6], (1, 2, 3))\n"
     ]
    }
   ],
   "source": [
    "# creating different tuples\n",
    "\n",
    "# empty tuple\n",
    "my_tuple = ()\n",
    "print(my_tuple)\n",
    "\n",
    "# tuple having integers\n",
    "my_tuple = (1, 2, 3)\n",
    "print(my_tuple)\n",
    "\n",
    "# tuple with mixed datatypes\n",
    "my_tuple = (1, \"Hello\", 3.4)\n",
    "print(my_tuple)\n",
    "\n",
    "# nested tuple\n",
    "my_tuple = (\"mouse\", [8, 4, 6], (1, 2, 3))\n",
    "print(my_tuple)\n"
   ]
  },
  {
   "cell_type": "code",
   "execution_count": 18,
   "id": "c0512aa9",
   "metadata": {},
   "outputs": [
    {
     "name": "stdout",
     "output_type": "stream",
     "text": [
      "(3, 4.6, 'dog')\n",
      "3\n",
      "4.6\n",
      "dog\n"
     ]
    }
   ],
   "source": [
    "# a tuple can be created without using parenthesis, it is known as tuple packing\n",
    "\n",
    "my_tuple = 3, 4.6, \"dog\"\n",
    "print(my_tuple)\n",
    "\n",
    "# tuple unpacking\n",
    "a, b, c = my_tuple\n",
    "print(a)\n",
    "print(b)\n",
    "print(c)\n"
   ]
  },
  {
   "cell_type": "code",
   "execution_count": 20,
   "id": "cc90f1a4",
   "metadata": {},
   "outputs": [
    {
     "name": "stdout",
     "output_type": "stream",
     "text": [
      "<class 'str'>\n",
      "<class 'tuple'>\n",
      "<class 'tuple'>\n"
     ]
    }
   ],
   "source": [
    "# we require trailing comma to create or identify tuple\n",
    "my_tuple = (\"hello\")\n",
    "print(type(my_tuple))\n",
    "\n",
    "# creating tuple having one element\n",
    "my_tuple = (\"hello\",)\n",
    "print(type(my_tuple))\n",
    "\n",
    "#parenthesis is optional\n",
    "my_tuple = \"hello\",\n",
    "print(type(my_tuple))\n"
   ]
  },
  {
   "cell_type": "code",
   "execution_count": 2,
   "id": "6e48b515",
   "metadata": {},
   "outputs": [],
   "source": [
    "# working with dictionary\n",
    "\n",
    "# empty dictionary\n",
    "my_dict = {}\n",
    "\n",
    "# dictionary with integer keys\n",
    "my_dict = {1: 'apple', 2: 'ball'}\n",
    "\n",
    "# dictionary with mixed keys\n",
    "my_dict = {'name': 'John', 1: [2, 4, 3]}\n",
    "\n",
    "# using dict()\n",
    "my_dict = dict({1: 'apple', 2: 'ball'})\n",
    "\n",
    "# from sequence having each item as a pair\n",
    "my_dict = dict([(1, 'apple'), (2, 'ball')])\n"
   ]
  },
  {
   "cell_type": "code",
   "execution_count": 3,
   "id": "a2f48420",
   "metadata": {},
   "outputs": [
    {
     "name": "stdout",
     "output_type": "stream",
     "text": [
      "Jack\n",
      "26\n",
      "None\n"
     ]
    },
    {
     "ename": "KeyError",
     "evalue": "'address'",
     "output_type": "error",
     "traceback": [
      "\u001b[1;31m---------------------------------------------------------------------------\u001b[0m",
      "\u001b[1;31mKeyError\u001b[0m                                  Traceback (most recent call last)",
      "\u001b[1;32m<ipython-input-3-0ac51a81780e>\u001b[0m in \u001b[0;36m<module>\u001b[1;34m\u001b[0m\n\u001b[0;32m     13\u001b[0m \u001b[1;33m\u001b[0m\u001b[0m\n\u001b[0;32m     14\u001b[0m \u001b[1;31m# KeyError\u001b[0m\u001b[1;33m\u001b[0m\u001b[1;33m\u001b[0m\u001b[1;33m\u001b[0m\u001b[0m\n\u001b[1;32m---> 15\u001b[1;33m \u001b[0mprint\u001b[0m\u001b[1;33m(\u001b[0m\u001b[0mmy_dict\u001b[0m\u001b[1;33m[\u001b[0m\u001b[1;34m'address'\u001b[0m\u001b[1;33m]\u001b[0m\u001b[1;33m)\u001b[0m\u001b[1;33m\u001b[0m\u001b[1;33m\u001b[0m\u001b[0m\n\u001b[0m",
      "\u001b[1;31mKeyError\u001b[0m: 'address'"
     ]
    }
   ],
   "source": [
    "# get vs [] for retrieving elements\n",
    "my_dict = {'name': 'Jack', 'age': 26}\n",
    "\n",
    "#output: Jack\n",
    "print(my_dict['name'])\n",
    "\n",
    "#output: 26\n",
    "print(my_dict.get('age'))\n",
    "\n",
    "# trying to access keys which does'nt exist throws error\n",
    "# Output None\n",
    "print(my_dict.get('address'))\n",
    "\n",
    "# KeyError\n",
    "print(my_dict['address'])\n"
   ]
  },
  {
   "cell_type": "code",
   "execution_count": 2,
   "id": "77da5e06",
   "metadata": {},
   "outputs": [
    {
     "name": "stdout",
     "output_type": "stream",
     "text": [
      "The largest number is ::  14\n"
     ]
    }
   ],
   "source": [
    "# python program to find the largest number amoung the three input numbers\n",
    "\n",
    "# change the values of num1, num2 and num3\n",
    "# for a different result\n",
    "num1 = 10\n",
    "num2 = 14\n",
    "num3 = 12\n",
    "\n",
    "# uncomment following lines to take three numbers from user\n",
    "#num1 = float(input(\"Enter first number: \"))\n",
    "#num2 = float(input(\"Enter Second number: \"))\n",
    "#num3 = float(input(\"Enter third number: \"))\n",
    "\n",
    "if(num1 >= num2) and (num1 >= num3):\n",
    "    largest = num1\n",
    "elif(num2 >= num1) and (num2 >= num3):\n",
    "    largest = num2\n",
    "else:\n",
    "    largest = num3\n",
    "print(\"The largest number is :: \", largest)\n"
   ]
  },
  {
   "cell_type": "code",
   "execution_count": 5,
   "id": "0a1f11aa",
   "metadata": {},
   "outputs": [
    {
     "name": "stdout",
     "output_type": "stream",
     "text": [
      "Temperature in Fahrenheit = 100.4\n"
     ]
    }
   ],
   "source": [
    "# Python program to convert temperature to and from celsius fahrenheit [Formula: c=(f-32)(5/9)]\n",
    "temp = float(input(\"Enter Temperature: \"))\n",
    "unit = input(\"Enter unit('C' for celsius or 'F' for Fahrenheit): \")\n",
    "\n",
    "if unit == 'C' or unit == 'c':\n",
    "    newTemp = 9/5*temp+32\n",
    "    print(\"Temperature in Fahrenheit =\", newTemp)\n",
    "elif unit == 'F' or unit == 'f':\n",
    "    newTemp = 5/9*(temp-32)\n",
    "    print(\"Temperature in Celsius =\", newTemp)\n",
    "else:\n",
    "    print(\"Unknown unit\", unit)\n"
   ]
  },
  {
   "cell_type": "code",
   "execution_count": 6,
   "id": "9b962c22",
   "metadata": {},
   "outputs": [
    {
     "name": "stdout",
     "output_type": "stream",
     "text": [
      "\n",
      "* \n",
      "* * \n",
      "* * * \n",
      "* * * * \n",
      "* * * * * \n",
      "* * * * \n",
      "* * * \n",
      "* * \n",
      "* \n"
     ]
    }
   ],
   "source": [
    "# Program to print pattern using nested for loop\n",
    "n = 5\n",
    "for i in range(n):\n",
    "    for j in range(i):\n",
    "        print('* ', end=\"\")\n",
    "    print('')\n",
    "\n",
    "for i in range(n, 0, -1):\n",
    "    for j in range(i):\n",
    "        print('* ', end=\"\")\n",
    "    print('')\n"
   ]
  },
  {
   "cell_type": "code",
   "execution_count": 9,
   "id": "f6fcdcf9",
   "metadata": {},
   "outputs": [
    {
     "name": "stdout",
     "output_type": "stream",
     "text": [
      "11\n",
      "11\n",
      "11\n",
      "11\n",
      "11\n",
      "11\n",
      "11\n",
      "11\n",
      "11\n",
      "13\n",
      "13\n",
      "13\n",
      "13\n",
      "13\n",
      "13\n",
      "13\n",
      "13\n",
      "13\n",
      "13\n",
      "13\n",
      "15\n",
      "17\n",
      "17\n",
      "17\n",
      "17\n",
      "17\n",
      "17\n",
      "17\n",
      "17\n",
      "17\n",
      "17\n",
      "17\n",
      "17\n",
      "17\n",
      "17\n",
      "17\n",
      "19\n",
      "19\n",
      "19\n",
      "19\n",
      "19\n",
      "19\n",
      "19\n",
      "19\n",
      "19\n",
      "19\n",
      "19\n",
      "19\n",
      "19\n",
      "19\n",
      "19\n",
      "19\n",
      "19\n",
      "21\n",
      "23\n",
      "23\n",
      "23\n",
      "23\n",
      "23\n",
      "23\n",
      "23\n",
      "23\n",
      "23\n",
      "23\n",
      "23\n",
      "23\n",
      "23\n",
      "23\n",
      "23\n",
      "23\n",
      "23\n",
      "23\n",
      "23\n",
      "23\n",
      "23\n",
      "25\n",
      "25\n",
      "25\n",
      "27\n",
      "29\n",
      "29\n",
      "29\n",
      "29\n",
      "29\n",
      "29\n",
      "29\n",
      "29\n",
      "29\n",
      "29\n",
      "29\n",
      "29\n",
      "29\n",
      "29\n",
      "29\n",
      "29\n",
      "29\n",
      "29\n",
      "29\n",
      "29\n",
      "29\n",
      "29\n",
      "29\n",
      "29\n",
      "29\n",
      "29\n",
      "29\n",
      "31\n",
      "31\n",
      "31\n",
      "31\n",
      "31\n",
      "31\n",
      "31\n",
      "31\n",
      "31\n",
      "31\n",
      "31\n",
      "31\n",
      "31\n",
      "31\n",
      "31\n",
      "31\n",
      "31\n",
      "31\n",
      "31\n",
      "31\n",
      "31\n",
      "31\n",
      "31\n",
      "31\n",
      "31\n",
      "31\n",
      "31\n",
      "31\n",
      "31\n",
      "33\n",
      "35\n",
      "35\n",
      "35\n",
      "37\n",
      "37\n",
      "37\n",
      "37\n",
      "37\n",
      "37\n",
      "37\n",
      "37\n",
      "37\n",
      "37\n",
      "37\n",
      "37\n",
      "37\n",
      "37\n",
      "37\n",
      "37\n",
      "37\n",
      "37\n",
      "37\n",
      "37\n",
      "37\n",
      "37\n",
      "37\n",
      "37\n",
      "37\n",
      "37\n",
      "37\n",
      "37\n",
      "37\n",
      "37\n",
      "37\n",
      "37\n",
      "37\n",
      "37\n",
      "37\n",
      "39\n",
      "41\n",
      "41\n",
      "41\n",
      "41\n",
      "41\n",
      "41\n",
      "41\n",
      "41\n",
      "41\n",
      "41\n",
      "41\n",
      "41\n",
      "41\n",
      "41\n",
      "41\n",
      "41\n",
      "41\n",
      "41\n",
      "41\n",
      "41\n",
      "41\n",
      "41\n",
      "41\n",
      "41\n",
      "41\n",
      "41\n",
      "41\n",
      "41\n",
      "41\n",
      "41\n",
      "41\n",
      "41\n",
      "41\n",
      "41\n",
      "41\n",
      "41\n",
      "41\n",
      "41\n",
      "41\n",
      "43\n",
      "43\n",
      "43\n",
      "43\n",
      "43\n",
      "43\n",
      "43\n",
      "43\n",
      "43\n",
      "43\n",
      "43\n",
      "43\n",
      "43\n",
      "43\n",
      "43\n",
      "43\n",
      "43\n",
      "43\n",
      "43\n",
      "43\n",
      "43\n",
      "43\n",
      "43\n",
      "43\n",
      "43\n",
      "43\n",
      "43\n",
      "43\n",
      "43\n",
      "43\n",
      "43\n",
      "43\n",
      "43\n",
      "43\n",
      "43\n",
      "43\n",
      "43\n",
      "43\n",
      "43\n",
      "43\n",
      "43\n",
      "45\n",
      "47\n",
      "47\n",
      "47\n",
      "47\n",
      "47\n",
      "47\n",
      "47\n",
      "47\n",
      "47\n",
      "47\n",
      "47\n",
      "47\n",
      "47\n",
      "47\n",
      "47\n",
      "47\n",
      "47\n",
      "47\n",
      "47\n",
      "47\n",
      "47\n",
      "47\n",
      "47\n",
      "47\n",
      "47\n",
      "47\n",
      "47\n",
      "47\n",
      "47\n",
      "47\n",
      "47\n",
      "47\n",
      "47\n",
      "47\n",
      "47\n",
      "47\n",
      "47\n",
      "47\n",
      "47\n",
      "47\n",
      "47\n",
      "47\n",
      "47\n",
      "47\n",
      "47\n",
      "49\n",
      "49\n",
      "49\n",
      "49\n",
      "49\n"
     ]
    }
   ],
   "source": [
    "# print prime number less than 20\n",
    "# User Input\n",
    "lower = int(input(\"Enter lower range: \"))\n",
    "upper = int(input(\"Enter upper range: \"))\n",
    "\n",
    "for num in range(lower, upper+1):\n",
    "    if num > 1:\n",
    "        for i in range(2, num):\n",
    "            if(num % i) == 0:\n",
    "                break\n",
    "            else:\n",
    "                print(num)\n"
   ]
  },
  {
   "cell_type": "code",
   "execution_count": 18,
   "id": "166a98f3",
   "metadata": {},
   "outputs": [
    {
     "name": "stdout",
     "output_type": "stream",
     "text": [
      "The factorial of 6 is 720\n"
     ]
    }
   ],
   "source": [
    "# Factorial of a number using recursion\n",
    "def recur_factorial(n):\n",
    "    if n == 1:\n",
    "        return n\n",
    "    else:\n",
    "        return n*recur_factorial(n-1)\n",
    "\n",
    "\n",
    "num = int(input(\"Enter a number: \"))\n",
    "# check if the number is negative\n",
    "if num < 0:\n",
    "    print(\"Sorry, factorial does not exist for negative numbers\")\n",
    "elif num == 0:\n",
    "    print(\"The factorial of 0 is 1\")\n",
    "else:\n",
    "    print(\"The factorial of\", num, \"is\", recur_factorial(num))\n"
   ]
  },
  {
   "cell_type": "code",
   "execution_count": 24,
   "id": "d04f278f",
   "metadata": {},
   "outputs": [
    {
     "name": "stdout",
     "output_type": "stream",
     "text": [
      "It is not a right angle traingle\n"
     ]
    }
   ],
   "source": [
    "# Write a program that accepts the lengths of three sides of a triangle as inputs. The program output should indicate whether or not the triangle is a right triangle(Recall from the Pythagorean Theorem that in a right triangle, the square of one side equals the sum of the squares of the other two sides).\n",
    "\n",
    "base = float(input(\"Enter length of base: \"))\n",
    "perp = float(input(\"Enter length of perpendicular: \"))\n",
    "hypo = float(input(\"Enter length of hypotenuse: \"))\n",
    "if hypo**2 == ((base**2)+(perp**2)):\n",
    "    print(\"It is a right angle traingle\")\n",
    "else:\n",
    "    print(\"It is not a right angle traingle\")\n"
   ]
  },
  {
   "cell_type": "code",
   "execution_count": 28,
   "id": "9a51cb2c",
   "metadata": {},
   "outputs": [],
   "source": [
    "# program to define a module to find Fibonacci numbers and import module to another program\n",
    "def fib(n):     # write Fibonacci Series upto n\n",
    "    a, b = 0, 1\n",
    "    while b < n:\n",
    "        print(b, end=' ')\n",
    "        a, b = b, a+b\n",
    "    print()\n",
    "\n",
    "\n",
    "def fib2(n):  # return Fibonacci series upto n\n",
    "    result = []\n",
    "    a, b = 0, 1\n",
    "    while b < n:\n",
    "        result.append(b)\n",
    "        a, b = b, a+b\n",
    "    return result\n"
   ]
  },
  {
   "cell_type": "code",
   "execution_count": 29,
   "id": "24c33377",
   "metadata": {},
   "outputs": [
    {
     "name": "stdout",
     "output_type": "stream",
     "text": [
      "1 1 2 \n",
      "None\n"
     ]
    }
   ],
   "source": [
    "# if we are doing in different files then we have to import the method and call like this\n",
    "# import fibo.py\n",
    "# print(fibo.fib(3))\n",
    "print(fib(3))\n"
   ]
  },
  {
   "cell_type": "code",
   "execution_count": 1,
   "id": "d5eac188",
   "metadata": {},
   "outputs": [],
   "source": [
    "#define a module and import specific function in other module\n",
    "def my_function():\n",
    "    print(\"Hello World\")"
   ]
  },
  {
   "cell_type": "code",
   "execution_count": 2,
   "id": "d125dee2",
   "metadata": {},
   "outputs": [
    {
     "name": "stdout",
     "output_type": "stream",
     "text": [
      "Hello World\n"
     ]
    }
   ],
   "source": [
    "my_function()"
   ]
  },
  {
   "cell_type": "code",
   "execution_count": 3,
   "id": "399e216d",
   "metadata": {},
   "outputs": [
    {
     "ename": "FileNotFoundError",
     "evalue": "[Errno 2] No such file or directory: 'first.txt'",
     "output_type": "error",
     "traceback": [
      "\u001b[1;31m---------------------------------------------------------------------------\u001b[0m",
      "\u001b[1;31mFileNotFoundError\u001b[0m                         Traceback (most recent call last)",
      "\u001b[1;32m<ipython-input-3-cd12ad56c3f4>\u001b[0m in \u001b[0;36m<module>\u001b[1;34m\u001b[0m\n\u001b[0;32m      8\u001b[0m \u001b[1;33m\u001b[0m\u001b[0m\n\u001b[0;32m      9\u001b[0m \u001b[1;31m#opening the file1 in reading mode\u001b[0m\u001b[1;33m\u001b[0m\u001b[1;33m\u001b[0m\u001b[1;33m\u001b[0m\u001b[0m\n\u001b[1;32m---> 10\u001b[1;33m \u001b[0mf1\u001b[0m \u001b[1;33m=\u001b[0m \u001b[0mopen\u001b[0m\u001b[1;33m(\u001b[0m\u001b[0minfile\u001b[0m\u001b[1;33m,\u001b[0m \u001b[1;34m\"r\"\u001b[0m\u001b[1;33m)\u001b[0m\u001b[1;33m\u001b[0m\u001b[1;33m\u001b[0m\u001b[0m\n\u001b[0m\u001b[0;32m     11\u001b[0m \u001b[1;33m\u001b[0m\u001b[0m\n\u001b[0;32m     12\u001b[0m \u001b[1;31m#opening the file1 in output mode\u001b[0m\u001b[1;33m\u001b[0m\u001b[1;33m\u001b[0m\u001b[1;33m\u001b[0m\u001b[0m\n",
      "\u001b[1;31mFileNotFoundError\u001b[0m: [Errno 2] No such file or directory: 'first.txt'"
     ]
    }
   ],
   "source": [
    "#Write a script named copyfile.py. This script should prompt the user for the names of two text files. The contents of the first file should be input and written to the second file.\n",
    "\n",
    "#to prompt the user to enter the file1 which is input file\n",
    "infile = input(\"Enter the input filename with extension\")\n",
    "\n",
    "#to prompt the user to enter the file2 which is input file\n",
    "outfile = input(\"Enter the output filename with extension\")\n",
    "\n",
    "#opening the file1 in reading mode\n",
    "f1 = open(infile, \"r\")\n",
    "\n",
    "#opening the file1 in output mode\n",
    "f2 = open(outfile, \"w+\")\n",
    "\n",
    "#reading the content of file1 to content variable\n",
    "content = f1.read();\n",
    "\n",
    "#writing to the value of content variable to file2\n",
    "f2.write(content);\n",
    "\n",
    "#closing the file1 and file2\n",
    "f1.close();\n",
    "f2.close();\n"
   ]
  },
  {
   "cell_type": "code",
   "execution_count": 1,
   "id": "72ea2f0f",
   "metadata": {},
   "outputs": [
    {
     "name": "stdout",
     "output_type": "stream",
     "text": [
      "I\n",
      "MMMM\n"
     ]
    }
   ],
   "source": [
    "# Write a Python class to convert an integer to a roman numeral.\n",
    "class py_solution:\n",
    "    def int_to_Roman(self, num):\n",
    "        val = [1000, 900, 500, 400, 100, 90, 50, 40, 10, 9, 5, 4, 1]\n",
    "        syb = [\"M\", \"CM\", \"D\", \"CD\", \"C\", \"XC\",\n",
    "               \"L\", \"XL\", \"X\", \"IX\", \"V\", \"IV\", \"I\"]\n",
    "        roman_num = ''\n",
    "        i = 0\n",
    "        while num > 0:\n",
    "            for _ in range(num // val[i]):\n",
    "                roman_num += syb[i]\n",
    "                num -= val[i]\n",
    "            i += 1\n",
    "        return roman_num\n",
    "\n",
    "\n",
    "print(py_solution().int_to_Roman(1))\n",
    "print(py_solution().int_to_Roman(4000))"
   ]
  },
  {
   "cell_type": "code",
   "execution_count": 2,
   "id": "f2602853",
   "metadata": {},
   "outputs": [
    {
     "name": "stdout",
     "output_type": "stream",
     "text": [
      "8\n"
     ]
    }
   ],
   "source": [
    "#Write a Python class to implement pow (x, n)\n",
    "#python program to calculate pow(x,n)\n",
    "# Funtion to calculate x\n",
    "# raised to the power y\n",
    "def power(x, y):\n",
    "    if(y == 0):\n",
    "        return 1\n",
    "    elif (int(y % 2) == 0):\n",
    "        return (power(x, int(y/2))) * power(x, int(y/2))\n",
    "    else:\n",
    "        return (x*power(x, int(y/2)) * power(x, int(y/2)))\n",
    "#Driver Code\n",
    "x = 2; y = 3\n",
    "print(power(x,y))"
   ]
  },
  {
   "cell_type": "code",
   "execution_count": 4,
   "id": "7cc12ea2",
   "metadata": {},
   "outputs": [
    {
     "name": "stdout",
     "output_type": "stream",
     "text": [
      "Python to Welcome\n"
     ]
    }
   ],
   "source": [
    "#Write a Python class to reverse a string word by word.\n",
    "class Reverse:\n",
    "    def reverse_word(self, str):\n",
    "        return ' '.join(reversed(str.split()))\n",
    "print(Reverse().reverse_word('Welcome to Python'))\n"
   ]
  },
  {
   "cell_type": "code",
   "execution_count": 3,
   "id": "c4850579",
   "metadata": {},
   "outputs": [
    {
     "name": "stdout",
     "output_type": "stream",
     "text": [
      "9\n"
     ]
    }
   ],
   "source": [
    "#Python Program for Find remainder of array multiplication divided by n\n",
    "#Find remainder of arr[0] * arr[1]\n",
    "# * .. * arr[n-1]\n",
    "def findremainder(arr, lens, n):\n",
    "    mul = 1\n",
    "\n",
    "    #find the individual\n",
    "    #remainder and\n",
    "    # multiple with mul\n",
    "    for i in arr:\n",
    "        mul = mul * (i % n)\n",
    "    return mul % n\n",
    "\n",
    "\n",
    "#Driver code\n",
    "arr = [100, 10, 5, 25, 35, 14]\n",
    "lens = len(arr)\n",
    "n = 11\n",
    "\n",
    "#print the remainder\n",
    "#of after multiple\n",
    "#all the numbers\n",
    "print(findremainder(arr, lens, n))\n"
   ]
  },
  {
   "cell_type": "code",
   "execution_count": 1,
   "id": "3c0d8e1c",
   "metadata": {},
   "outputs": [
    {
     "name": "stdout",
     "output_type": "stream",
     "text": [
      "225\n"
     ]
    }
   ],
   "source": [
    "# Python Program for cube sum of first n natural numbers\n",
    "def sumOfSeries(n):\n",
    "    sum = 0\n",
    "    for i in range(1, n+1):\n",
    "        sum += i*i*i\n",
    "    return sum\n",
    "\n",
    "\n",
    "# Driver function\n",
    "n = int(input(\"Enter Your number: \"))\n",
    "print(sumOfSeries(n))\n"
   ]
  },
  {
   "cell_type": "code",
   "execution_count": 4,
   "id": "ed688d7b",
   "metadata": {},
   "outputs": [
    {
     "name": "stdout",
     "output_type": "stream",
     "text": [
      "11 is a prime number\n",
      "11 is a prime number\n",
      "11 is a prime number\n",
      "11 is a prime number\n"
     ]
    }
   ],
   "source": [
    "# python program to check number is prime or not\n",
    "num = 11\n",
    "\n",
    "# if given number is greater than 1\n",
    "if num > 1:\n",
    "    # iterate from 2 to n/2\n",
    "    for i in range(2, int(num/2)+1):\n",
    "        # if number is divisible by any number between\n",
    "        # 2 and n/2 it is not prime\n",
    "        if (num % i) == 0:\n",
    "            print(num, \"is not a prime number\")\n",
    "            break\n",
    "        else:\n",
    "            print(num, \"is a prime number\")\n",
    "else:\n",
    "    print(num, \"is not a prime number\")"
   ]
  },
  {
   "cell_type": "code",
   "execution_count": 7,
   "metadata": {},
   "outputs": [
    {
     "name": "stdout",
     "output_type": "stream",
     "text": [
      "Area is 78.550000\n"
     ]
    }
   ],
   "source": [
    "# python program to find area of a circle\n",
    "def findArea(r):\n",
    "    PI = 3.142\n",
    "    return PI * (r*r)\n",
    "\n",
    "\n",
    "# Driver method\n",
    "print(\"Area is %.6f\" % findArea(5))\n"
   ]
  }
 ],
 "metadata": {
  "kernelspec": {
   "display_name": "Python 3",
   "language": "python",
   "name": "python3"
  },
  "language_info": {
   "codemirror_mode": {
    "name": "ipython",
    "version": 3
   },
   "file_extension": ".py",
   "mimetype": "text/x-python",
   "name": "python",
   "nbconvert_exporter": "python",
   "pygments_lexer": "ipython3",
   "version": "3.8.8"
  }
 },
 "nbformat": 4,
 "nbformat_minor": 5
}
