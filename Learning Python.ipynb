{
 "cells": [
  {
   "cell_type": "code",
   "execution_count": 2,
   "id": "0fc12789",
   "metadata": {
    "scrolled": true
   },
   "outputs": [
    {
     "name": "stdout",
     "output_type": "stream",
     "text": [
      "Hello World\n"
     ]
    }
   ],
   "source": [
    "print(\"Hello World\")"
   ]
  },
  {
   "cell_type": "code",
   "execution_count": 6,
   "id": "04cc64ac",
   "metadata": {},
   "outputs": [
    {
     "name": "stdout",
     "output_type": "stream",
     "text": [
      "Sushant\n"
     ]
    }
   ],
   "source": [
    "name = \"Sushant\"\n",
    "print(name)"
   ]
  },
  {
   "cell_type": "markdown",
   "id": "ef1700fb",
   "metadata": {},
   "source": []
  },
  {
   "cell_type": "code",
   "execution_count": 7,
   "id": "633b6758",
   "metadata": {},
   "outputs": [
    {
     "name": "stdout",
     "output_type": "stream",
     "text": [
      "Enter your name :: Sushant\n",
      "You are the best Sushant\n"
     ]
    }
   ],
   "source": [
    "name = input(\"Enter your name :: \")\n",
    "print(\"You are the best\",name)"
   ]
  },
  {
   "cell_type": "code",
   "execution_count": 8,
   "id": "31e2e458",
   "metadata": {},
   "outputs": [
    {
     "name": "stdout",
     "output_type": "stream",
     "text": [
      "type of a  <class 'int'>\n",
      "type of b  <class 'float'>\n",
      "type of c  <class 'complex'>\n"
     ]
    }
   ],
   "source": [
    "##Checking type of variable\n",
    "a=10;\n",
    "b=11.5;\n",
    "c=2.05j\n",
    "print(\"type of a \",type(a))\n",
    "print(\"type of b \",type(b))\n",
    "print(\"type of c \",type(c))"
   ]
  },
  {
   "cell_type": "code",
   "execution_count": 15,
   "id": "082d44b6",
   "metadata": {},
   "outputs": [
    {
     "name": "stdout",
     "output_type": "stream",
     "text": [
      "Enter first value2\n",
      "Enter second value3\n",
      "Addition of two inputs 5\n",
      "minus of two inputs:: -1\n",
      "multiple of two inputs:: 6\n",
      "division of two inputs:: 0.67\n",
      "division of two inputs:: 0.67\n",
      "modulus of two inputs:: 2\n",
      "Exponents of two inputs:: 8\n",
      "floar division of two inputs:: 0\n"
     ]
    }
   ],
   "source": [
    "##performing artithmetic opertions\n",
    "a=int(input(\"Enter first value\"));\n",
    "b=int(input(\"Enter second value\"));\n",
    "print(\"Addition of two inputs\",a+b);\n",
    "print(\"minus of two inputs::\",a-b);\n",
    "print(\"multiple of two inputs::\",a*b);\n",
    "print(\"division of two inputs::\",format(a/b,\".2f\"));\n",
    "print(\"division of two inputs::\",round(a/b,2));\n",
    "print(\"modulus of two inputs::\",a%b);\n",
    "print(\"Exponents of two inputs::\",a**b);\n",
    "print(\"floar division of two inputs::\",a//b);"
   ]
  },
  {
   "cell_type": "code",
   "execution_count": 16,
   "id": "3fe79299",
   "metadata": {
    "scrolled": true
   },
   "outputs": [
    {
     "name": "stdout",
     "output_type": "stream",
     "text": [
      "Enter String One: Hello\n",
      "Enter String Two: World\n",
      "String One :  Hello\n",
      "String Two :  World\n",
      "Concatenated String:  HelloWorld\n",
      "Substring of String One:  ell\n",
      "Substring of String Two:  orl\n"
     ]
    }
   ],
   "source": [
    "##aim to create concatenate and find substring and print string from given string.\n",
    "\n",
    "s1=input(\"Enter String One: \")\n",
    "s2=input(\"Enter String Two: \")\n",
    "print(\"String One : \",s1)\n",
    "print(\"String Two : \",s2)\n",
    "print(\"Concatenated String: \",s1+s2)\n",
    "print(\"Substring of String One: \",s1[1:4])\n",
    "print(\"Substring of String Two: \",s2[1:4])"
   ]
  },
  {
   "cell_type": "code",
   "execution_count": 1,
   "id": "8ef46703",
   "metadata": {},
   "outputs": [
    {
     "name": "stdout",
     "output_type": "stream",
     "text": [
      "Fri Dec 24 16:21:03 India Standard Time 2021\n"
     ]
    }
   ],
   "source": [
    "##print date format\n",
    "import time;\n",
    "ltime=time.localtime();\n",
    "print(time.strftime(\"%a %b %d %H:%M:%S %Z %Y\",ltime));"
   ]
  }
 ],
 "metadata": {
  "kernelspec": {
   "display_name": "Python 3",
   "language": "python",
   "name": "python3"
  },
  "language_info": {
   "codemirror_mode": {
    "name": "ipython",
    "version": 3
   },
   "file_extension": ".py",
   "mimetype": "text/x-python",
   "name": "python",
   "nbconvert_exporter": "python",
   "pygments_lexer": "ipython3",
   "version": "3.8.8"
  }
 },
 "nbformat": 4,
 "nbformat_minor": 5
}
