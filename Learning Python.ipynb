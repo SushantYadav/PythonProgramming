{
 "cells": [
  {
   "cell_type": "code",
   "execution_count": 2,
   "id": "0fc12789",
   "metadata": {
    "scrolled": true
   },
   "outputs": [
    {
     "name": "stdout",
     "output_type": "stream",
     "text": [
      "Hello World\n"
     ]
    }
   ],
   "source": [
    "print(\"Hello World\")\n"
   ]
  },
  {
   "cell_type": "code",
   "execution_count": 6,
   "id": "04cc64ac",
   "metadata": {},
   "outputs": [
    {
     "name": "stdout",
     "output_type": "stream",
     "text": [
      "Sushant\n"
     ]
    }
   ],
   "source": [
    "name = \"Sushant\"\n",
    "print(name)\n"
   ]
  },
  {
   "cell_type": "markdown",
   "id": "ef1700fb",
   "metadata": {},
   "source": []
  },
  {
   "cell_type": "code",
   "execution_count": 7,
   "id": "633b6758",
   "metadata": {},
   "outputs": [
    {
     "name": "stdout",
     "output_type": "stream",
     "text": [
      "Enter your name :: Sushant\n",
      "You are the best Sushant\n"
     ]
    }
   ],
   "source": [
    "name = input(\"Enter your name :: \")\n",
    "print(\"You are the best\", name)\n"
   ]
  },
  {
   "cell_type": "code",
   "execution_count": 8,
   "id": "31e2e458",
   "metadata": {},
   "outputs": [
    {
     "name": "stdout",
     "output_type": "stream",
     "text": [
      "type of a  <class 'int'>\n",
      "type of b  <class 'float'>\n",
      "type of c  <class 'complex'>\n"
     ]
    }
   ],
   "source": [
    "# Checking type of variable\n",
    "a = 10\n",
    "b = 11.5\n",
    "c = 2.05j\n",
    "print(\"type of a \", type(a))\n",
    "print(\"type of b \", type(b))\n",
    "print(\"type of c \", type(c))\n"
   ]
  },
  {
   "cell_type": "code",
   "execution_count": 15,
   "id": "082d44b6",
   "metadata": {},
   "outputs": [
    {
     "name": "stdout",
     "output_type": "stream",
     "text": [
      "Enter first value2\n",
      "Enter second value3\n",
      "Addition of two inputs 5\n",
      "minus of two inputs:: -1\n",
      "multiple of two inputs:: 6\n",
      "division of two inputs:: 0.67\n",
      "division of two inputs:: 0.67\n",
      "modulus of two inputs:: 2\n",
      "Exponents of two inputs:: 8\n",
      "floar division of two inputs:: 0\n"
     ]
    }
   ],
   "source": [
    "# performing artithmetic opertions\n",
    "a = int(input(\"Enter first value\"))\n",
    "b = int(input(\"Enter second value\"))\n",
    "print(\"Addition of two inputs\", a+b)\n",
    "print(\"minus of two inputs::\", a-b)\n",
    "print(\"multiple of two inputs::\", a*b)\n",
    "print(\"division of two inputs::\", format(a/b, \".2f\"))\n",
    "print(\"division of two inputs::\", round(a/b, 2))\n",
    "print(\"modulus of two inputs::\", a % b)\n",
    "print(\"Exponents of two inputs::\", a**b)\n",
    "print(\"floar division of two inputs::\", a//b)\n"
   ]
  },
  {
   "cell_type": "code",
   "execution_count": 16,
   "id": "3fe79299",
   "metadata": {
    "scrolled": true
   },
   "outputs": [
    {
     "name": "stdout",
     "output_type": "stream",
     "text": [
      "Enter String One: Hello\n",
      "Enter String Two: World\n",
      "String One :  Hello\n",
      "String Two :  World\n",
      "Concatenated String:  HelloWorld\n",
      "Substring of String One:  ell\n",
      "Substring of String Two:  orl\n"
     ]
    }
   ],
   "source": [
    "# aim to create concatenate and find substring and print string from given string.\n",
    "\n",
    "s1 = input(\"Enter String One: \")\n",
    "s2 = input(\"Enter String Two: \")\n",
    "print(\"String One : \", s1)\n",
    "print(\"String Two : \", s2)\n",
    "print(\"Concatenated String: \", s1+s2)\n",
    "print(\"Substring of String One: \", s1[1:4])\n",
    "print(\"Substring of String Two: \", s2[1:4])\n"
   ]
  },
  {
   "cell_type": "code",
   "execution_count": 2,
   "id": "8ef46703",
   "metadata": {},
   "outputs": [
    {
     "name": "stdout",
     "output_type": "stream",
     "text": [
      "Fri Dec 24 16:23:03 India Standard Time 2021\n"
     ]
    }
   ],
   "source": [
    "# print date format\n",
    "import time\n",
    "ltime = time.localtime()\n",
    "print(time.strftime(\"%a %b %d %H:%M:%S %Z %Y\", ltime))\n"
   ]
  },
  {
   "cell_type": "code",
   "execution_count": 3,
   "id": "5f691823",
   "metadata": {},
   "outputs": [],
   "source": [
    "# Creating list\n",
    "my_list = []\n",
    "\n",
    "# list of integers\n",
    "my_list = [1, 2, 3]\n",
    "\n",
    "# list with mixed data types\n",
    "my_list = [1, \"Hello\", 3.4]\n"
   ]
  },
  {
   "cell_type": "code",
   "execution_count": 4,
   "id": "1fd38130",
   "metadata": {},
   "outputs": [],
   "source": [
    "# creating nested list\n",
    "my_list = [\"mouse\", [8, 4, 6], ['a']]\n"
   ]
  },
  {
   "cell_type": "code",
   "execution_count": 7,
   "id": "ca035c3b",
   "metadata": {},
   "outputs": [
    {
     "name": "stdout",
     "output_type": "stream",
     "text": [
      "[1, 3, 5, 7]\n",
      "[1, 3, 5, 7, 9, 11, 13]\n"
     ]
    }
   ],
   "source": [
    "# Appending and extending list in python\n",
    "odd = [1, 3, 5]\n",
    "odd.append(7)\n",
    "print(odd)\n",
    "odd.extend([9, 11, 13])\n",
    "print(odd)\n",
    "# To concatenate two list we can use + operator\n"
   ]
  },
  {
   "cell_type": "code",
   "execution_count": 10,
   "id": "a9be759a",
   "metadata": {},
   "outputs": [
    {
     "name": "stdout",
     "output_type": "stream",
     "text": [
      "['p', 'r', 'b', 'l', 'e', 'm']\n",
      "['p', 'm']\n"
     ]
    },
    {
     "ename": "NameError",
     "evalue": "name 'my_list' is not defined",
     "output_type": "error",
     "traceback": [
      "\u001b[1;31m---------------------------------------------------------------------------\u001b[0m",
      "\u001b[1;31mNameError\u001b[0m                                 Traceback (most recent call last)",
      "\u001b[1;32m<ipython-input-10-8aa9374349db>\u001b[0m in \u001b[0;36m<module>\u001b[1;34m\u001b[0m\n\u001b[0;32m     14\u001b[0m \u001b[1;33m\u001b[0m\u001b[0m\n\u001b[0;32m     15\u001b[0m \u001b[1;31m#Error: List not defined\u001b[0m\u001b[1;33m\u001b[0m\u001b[1;33m\u001b[0m\u001b[1;33m\u001b[0m\u001b[0m\n\u001b[1;32m---> 16\u001b[1;33m \u001b[0mprint\u001b[0m\u001b[1;33m(\u001b[0m\u001b[0mmy_list\u001b[0m\u001b[1;33m)\u001b[0m\u001b[1;33m\u001b[0m\u001b[1;33m\u001b[0m\u001b[0m\n\u001b[0m",
      "\u001b[1;31mNameError\u001b[0m: name 'my_list' is not defined"
     ]
    }
   ],
   "source": [
    "# Deleting list items\n",
    "my_list = ['p', 'r', 'o', 'b', 'l', 'e', 'm']\n",
    "\n",
    "# delete one item\n",
    "del my_list[2]\n",
    "print(my_list)\n",
    "\n",
    "# delete multiple item\n",
    "del my_list[1:5]\n",
    "print(my_list)\n",
    "\n",
    "# delete entire list\n",
    "del my_list\n",
    "\n",
    "# Error: List not defined\n",
    "print(my_list)\n"
   ]
  },
  {
   "cell_type": "code",
   "execution_count": 12,
   "id": "47d50a51",
   "metadata": {},
   "outputs": [
    {
     "name": "stdout",
     "output_type": "stream",
     "text": [
      "['p', 'r', 'o', 'b', 'l', 'e', 'm']\n",
      "['p', 'o', 'b', 'l', 'e', 'm']\n"
     ]
    }
   ],
   "source": [
    "my_list = ['p', 'r', 'o', 'b', 'l', 'e', 'm']\n",
    "print(my_list)\n",
    "\n",
    "# pop opertion to remove item at given index\n",
    "my_list.pop(1)\n",
    "print(my_list)\n"
   ]
  },
  {
   "cell_type": "code",
   "execution_count": 16,
   "id": "bfe0de44",
   "metadata": {},
   "outputs": [
    {
     "name": "stdout",
     "output_type": "stream",
     "text": [
      "['p', 'o', 'b', 'l', 'e', 'm']\n"
     ]
    }
   ],
   "source": [
    "# using remove to remove item\n",
    "my_list.remove\n",
    "print(my_list)\n"
   ]
  },
  {
   "cell_type": "code",
   "execution_count": 17,
   "id": "03d7cf8b",
   "metadata": {},
   "outputs": [
    {
     "name": "stdout",
     "output_type": "stream",
     "text": [
      "()\n",
      "(1, 2, 3)\n",
      "(1, 'Hello', 3.4)\n",
      "('mouse', [8, 4, 6], (1, 2, 3))\n"
     ]
    }
   ],
   "source": [
    "# creating different tuples\n",
    "\n",
    "# empty tuple\n",
    "my_tuple = ()\n",
    "print(my_tuple)\n",
    "\n",
    "# tuple having integers\n",
    "my_tuple = (1, 2, 3)\n",
    "print(my_tuple)\n",
    "\n",
    "# tuple with mixed datatypes\n",
    "my_tuple = (1, \"Hello\", 3.4)\n",
    "print(my_tuple)\n",
    "\n",
    "# nested tuple\n",
    "my_tuple = (\"mouse\", [8, 4, 6], (1, 2, 3))\n",
    "print(my_tuple)\n"
   ]
  },
  {
   "cell_type": "code",
   "execution_count": 18,
   "id": "c0512aa9",
   "metadata": {},
   "outputs": [
    {
     "name": "stdout",
     "output_type": "stream",
     "text": [
      "(3, 4.6, 'dog')\n",
      "3\n",
      "4.6\n",
      "dog\n"
     ]
    }
   ],
   "source": [
    "# a tuple can be created without using parenthesis, it is known as tuple packing\n",
    "\n",
    "my_tuple = 3, 4.6, \"dog\"\n",
    "print(my_tuple)\n",
    "\n",
    "# tuple unpacking\n",
    "a, b, c = my_tuple\n",
    "print(a)\n",
    "print(b)\n",
    "print(c)"
   ]
  },
  {
   "cell_type": "code",
   "execution_count": 19,
   "id": "da30fb12",
   "metadata": {},
   "outputs": [
    {
     "name": "stdout",
     "output_type": "stream",
     "text": [
      "<class 'str'>\n",
      "<class 'tuple'>\n",
      "<class 'tuple'>\n"
     ]
    }
   ],
   "source": [
    "# we require trailing comma to create or identify tuple\n",
    "my_tuple = (\"hello\")\n",
    "print(type(my_tuple))\n",
    "\n",
    "#creating tuple having one element\n",
    "my_tuple = (\"hello\",)\n",
    "print(type(my_tuple))\n",
    "\n",
    "#parenthesis is optional\n",
    "my_tuple = \"hello\",\n",
    "print(type(my_tuple))"
   ]
  },
  {
   "cell_type": "code",
   "execution_count": null,
   "id": "a59fbeb3",
   "metadata": {},
   "outputs": [],
   "source": []
  }
 ],
 "metadata": {
  "kernelspec": {
   "display_name": "Python 3",
   "language": "python",
   "name": "python3"
  },
  "language_info": {
   "codemirror_mode": {
    "name": "ipython",
    "version": 3
   },
   "file_extension": ".py",
   "mimetype": "text/x-python",
   "name": "python",
   "nbconvert_exporter": "python",
   "pygments_lexer": "ipython3",
   "version": "3.8.8"
  }
 },
 "nbformat": 4,
 "nbformat_minor": 5
}
